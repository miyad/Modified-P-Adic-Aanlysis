{
 "cells": [
  {
   "cell_type": "code",
   "execution_count": 2,
   "metadata": {},
   "outputs": [],
   "source": [
    "import constants\n",
    "BASE = constants.BASE\n",
    "SIZE = constants.SIZE\n",
    "ADDITIVE_IDENTITY = constants.ADDITIVE_IDENTITY\n",
    "\n",
    "def add_two_num(arr1, arr2):\n",
    "    \"\"\"\n",
    "    Add two arrays of numbers.\n",
    "    \"\"\"\n",
    "    if len(arr1) <= len(arr2):\n",
    "        arr1, arr2 = arr2, arr1\n",
    "    arr2 = arr2 + [0]*(len(arr1) - len(arr2))\n",
    "    result = []\n",
    "    carry = 0\n",
    "    for i in range(len(arr1)):\n",
    "        sum = arr1[i] + arr2[i] + carry\n",
    "        val = sum % BASE\n",
    "        if sum % BASE == 0:\n",
    "            val = BASE\n",
    "        result.append(val)\n",
    "        carry = (sum - val) // BASE\n",
    "    if carry != 0:\n",
    "        result.append(carry)\n",
    "    return result\n",
    "\n"
   ]
  },
  {
   "cell_type": "code",
   "execution_count": 4,
   "metadata": {},
   "outputs": [
    {
     "name": "stdout",
     "output_type": "stream",
     "text": [
      "[3, 4, 4, 2, 7, 6, 6, 6, 6, 6, 6, 6, 6, 6, 6, 6, 6, 6, 6, 6, 6, 6, 6, 6, 6, 6, 6, 6, 6, 6]\n",
      "[7, 6, 6, 6, 6, 6, 6, 6, 6, 6, 6, 6, 6, 6, 6, 6, 6, 6, 6, 6, 6, 6, 6, 6, 6, 6, 6, 6, 6, 6]\n",
      "[1, 2, 3, 4, 5, 4, 7, 6, 6, 6, 6, 6, 6, 6, 6, 6, 6, 6, 6, 6, 6, 6, 6, 6, 6, 6, 6, 6, 6, 6]\n",
      "[1, 7, 6, 6, 6, 6, 6, 6, 6, 6, 6, 6, 6, 6, 6, 6, 6, 6, 6, 6, 6, 6, 6, 6, 6, 6, 6, 6, 6, 6]\n"
     ]
    }
   ],
   "source": [
    "a = [3, 4, 4, 2]\n",
    "b = [1, 2, 3, 4, 5, 4]\n",
    "print(add_two_num(a, ADDITIVE_IDENTITY))\n",
    "print(ADDITIVE_IDENTITY)\n",
    "print(add_two_num(ADDITIVE_IDENTITY, b))\n",
    "print(add_two_num(ADDITIVE_IDENTITY, [1]))"
   ]
  },
  {
   "cell_type": "code",
   "execution_count": 8,
   "metadata": {},
   "outputs": [],
   "source": [
    "def get_additive_inverse(arr):\n",
    "    if len(arr) < SIZE:\n",
    "        arr = arr + [0]*(SIZE - len(arr))\n",
    "    result = []\n",
    "    carry = 0\n",
    "    for i in range(SIZE):\n",
    "        x = ADDITIVE_IDENTITY[i] - arr[i] - carry\n",
    "        if x <= 0:\n",
    "            x = x + BASE\n",
    "            carry = 1\n",
    "        result.append(x)\n",
    "    return result\n",
    "\n",
    "def subtract(arr1, arr2):\n",
    "    return add_two_num(arr1, get_additive_inverse(arr2))"
   ]
  },
  {
   "cell_type": "code",
   "execution_count": 9,
   "metadata": {},
   "outputs": [
    {
     "name": "stdout",
     "output_type": "stream",
     "text": [
      "[6, 6, 6, 6, 6, 6, 6, 6, 6, 6, 6, 6, 6, 6, 6, 6, 6, 6, 6, 6, 6, 6, 6, 6, 6, 6, 6, 6, 6, 6, 1]\n"
     ]
    }
   ],
   "source": [
    "print(subtract(ADDITIVE_IDENTITY, [1]))"
   ]
  }
 ],
 "metadata": {
  "kernelspec": {
   "display_name": "Python 3.9.12 ('base')",
   "language": "python",
   "name": "python3"
  },
  "language_info": {
   "codemirror_mode": {
    "name": "ipython",
    "version": 3
   },
   "file_extension": ".py",
   "mimetype": "text/x-python",
   "name": "python",
   "nbconvert_exporter": "python",
   "pygments_lexer": "ipython3",
   "version": "3.9.12"
  },
  "orig_nbformat": 4,
  "vscode": {
   "interpreter": {
    "hash": "9ca7b167463b287fe22e7b53c096859287635e7baf51d4c5328dcfd97fbd99d1"
   }
  }
 },
 "nbformat": 4,
 "nbformat_minor": 2
}
