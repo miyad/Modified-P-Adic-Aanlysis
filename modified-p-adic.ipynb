{
 "cells": [
  {
   "cell_type": "code",
   "execution_count": 116,
   "metadata": {},
   "outputs": [],
   "source": [
    "import constants\n",
    "BASE = constants.BASE\n",
    "SIZE = constants.SIZE\n",
    "ADDITIVE_IDENTITY = constants.ADDITIVE_IDENTITY\n",
    "\n",
    "def add_two_num(arr1, arr2):\n",
    "    \"\"\"\n",
    "    Add two arrays of numbers.\n",
    "    \"\"\"\n",
    "    if len(arr1) <= len(arr2):\n",
    "        arr1, arr2 = arr2, arr1\n",
    "    arr2 = arr2 + [0]*(len(arr1) - len(arr2))\n",
    "    result = []\n",
    "    carry = 0\n",
    "    for i in range(len(arr1)):\n",
    "        sum = arr1[i] + arr2[i] + carry\n",
    "        val = sum % BASE\n",
    "        if sum % BASE == 0:\n",
    "            val = BASE\n",
    "        result.append(val)\n",
    "        carry = (sum - val) // BASE\n",
    "    if carry != 0:\n",
    "        result.append(carry)\n",
    "    return result"
   ]
  },
  {
   "cell_type": "code",
   "execution_count": 117,
   "metadata": {},
   "outputs": [],
   "source": [
    "def print_number(arr):\n",
    "    \"\"\"\n",
    "    Print the number in the array.\n",
    "    \"\"\"\n",
    "    for i in range(len(arr)):\n",
    "        print(arr[i], end=\"\")\n",
    "    print()"
   ]
  },
  {
   "cell_type": "code",
   "execution_count": 118,
   "metadata": {},
   "outputs": [
    {
     "name": "stdout",
     "output_type": "stream",
     "text": [
      "3442766666666666666666666666666666666666666666666666666666666666666666666666666666666666666666666666\n",
      "7666666666666666666666666666666666666666666666666666666666666666666666666666666666666666666666666666\n",
      "1234547666666666666666666666666666666666666666666666666666666666666666666666666666666666666666666666\n",
      "1766666666666666666666666666666666666666666666666666666666666666666666666666666666666666666666666666\n"
     ]
    }
   ],
   "source": [
    "a = [3, 4, 4, 2]\n",
    "b = [1, 2, 3, 4, 5, 4]\n",
    "print_number(add_two_num(a, ADDITIVE_IDENTITY))\n",
    "print_number(ADDITIVE_IDENTITY)\n",
    "print_number(add_two_num(ADDITIVE_IDENTITY, b))\n",
    "print_number(add_two_num(ADDITIVE_IDENTITY, [1]))"
   ]
  },
  {
   "cell_type": "code",
   "execution_count": 119,
   "metadata": {},
   "outputs": [
    {
     "name": "stdout",
     "output_type": "stream",
     "text": [
      "66666666666666666666666666666666666666666666666666666666666666666666666666666666666666666666666666661\n"
     ]
    }
   ],
   "source": [
    "def get_additive_inverse(arr):\n",
    "    if len(arr) < SIZE:\n",
    "        arr = arr + [0]*(SIZE - len(arr))\n",
    "    result = []\n",
    "    carry = 0\n",
    "    for i in range(SIZE):\n",
    "        x = ADDITIVE_IDENTITY[i] - arr[i] - carry\n",
    "        if x <= 0:\n",
    "            x = x + BASE\n",
    "            carry = 1\n",
    "        result.append(x)\n",
    "    return result\n",
    "\n",
    "def subtract(arr1, arr2):\n",
    "    return add_two_num(arr1, get_additive_inverse(arr2))\n",
    "print_number(subtract(ADDITIVE_IDENTITY, [1]))"
   ]
  },
  {
   "cell_type": "code",
   "execution_count": 121,
   "metadata": {},
   "outputs": [
    {
     "name": "stdout",
     "output_type": "stream",
     "text": [
      "3.03315017762062\n"
     ]
    }
   ],
   "source": [
    "from tokenize import Double\n",
    "\n",
    "def newton_raphson_square_root(n) -> Double:\n",
    "    \"\"\"\n",
    "    Find the square root of n using Newton-Raphson method.\n",
    "    \"\"\"\n",
    "    x = n\n",
    "    while True:\n",
    "        y = (x + n/x) / 2\n",
    "        if y == x:\n",
    "            return y\n",
    "        x = y\n",
    "print(newton_raphson_square_root(9.2))"
   ]
  },
  {
   "cell_type": "code",
   "execution_count": 142,
   "metadata": {},
   "outputs": [
    {
     "name": "stdout",
     "output_type": "stream",
     "text": [
      "271\n"
     ]
    }
   ],
   "source": [
    "def convert_to_p_adic(n, arr = []): #optional parameter\n",
    "    \"\"\"\n",
    "    Convert a number to p-adic number.\n",
    "    \"\"\"\n",
    "    if n <= 0:\n",
    "        return arr\n",
    "    if n % BASE == 0:\n",
    "        rem = (n-BASE) // BASE\n",
    "        return convert_to_p_adic(rem, arr + [BASE])\n",
    "    num = n % BASE\n",
    "    return convert_to_p_adic(n // BASE, arr + [num])\n",
    "print_number(convert_to_p_adic(100))"
   ]
  },
  {
   "cell_type": "code",
   "execution_count": 162,
   "metadata": {},
   "outputs": [
    {
     "name": "stdout",
     "output_type": "stream",
     "text": [
      "3234476509624757991344647769100216810857203198904625400933895331391691459636928060001\n",
      "00000000000000000000000000000000000000000000000000000000000000000000000000000000000000000000000000001\n"
     ]
    }
   ],
   "source": [
    "def convert_to_decimal(arr):\n",
    "    \"\"\"\n",
    "    Convert a p-adic number to decimal.\n",
    "    \"\"\"\n",
    "    result = 0\n",
    "    for i in range(len(arr)):\n",
    "        result = result + arr[i] * BASE**i\n",
    "    return result\n",
    "def convert_to_base(arr):#convert to ordinary p-adic number with digits 0, 1, 2, 3,...., BASE-1\n",
    "    \"\"\"\n",
    "    Convert a p-adic number to base.\n",
    "    \"\"\"\n",
    "    n = convert_to_decimal(arr)\n",
    "    result = []\n",
    "    while n > 0:\n",
    "        result.append(n % BASE)\n",
    "        n = n // BASE\n",
    "    return result[::1] #reverse the list as, p-adic number represented in base is in reverse order\n",
    "print(convert_to_decimal(ADDITIVE_IDENTITY))\n",
    "print_number(convert_to_base(ADDITIVE_IDENTITY))"
   ]
  }
 ],
 "metadata": {
  "kernelspec": {
   "display_name": "Python 3.9.12 ('base')",
   "language": "python",
   "name": "python3"
  },
  "language_info": {
   "codemirror_mode": {
    "name": "ipython",
    "version": 3
   },
   "file_extension": ".py",
   "mimetype": "text/x-python",
   "name": "python",
   "nbconvert_exporter": "python",
   "pygments_lexer": "ipython3",
   "version": "3.9.12"
  },
  "orig_nbformat": 4,
  "vscode": {
   "interpreter": {
    "hash": "9ca7b167463b287fe22e7b53c096859287635e7baf51d4c5328dcfd97fbd99d1"
   }
  }
 },
 "nbformat": 4,
 "nbformat_minor": 2
}
